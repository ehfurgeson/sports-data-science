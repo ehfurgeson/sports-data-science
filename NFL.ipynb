{
 "cells": [
  {
   "cell_type": "markdown",
   "metadata": {},
   "source": [
    "NFL\n",
    "\n",
    "Predicting overall fantasy performance based on pre season performance\n",
    "\n",
    "Predicting final game fantasy points performance based on perofrmance at any given x minutes in the game \n",
    "\n",
    "(both of these predictions should be done separetely for each position)\n",
    "\n",
    "First I will try to just make these simple multiple regression problems and see how accurate I can get with that"
   ]
  },
  {
   "cell_type": "code",
   "execution_count": null,
   "metadata": {},
   "outputs": [],
   "source": []
  }
 ],
 "metadata": {
  "kernelspec": {
   "display_name": "base",
   "language": "python",
   "name": "python3"
  },
  "language_info": {
   "name": "python",
   "version": "3.9.13"
  }
 },
 "nbformat": 4,
 "nbformat_minor": 2
}
