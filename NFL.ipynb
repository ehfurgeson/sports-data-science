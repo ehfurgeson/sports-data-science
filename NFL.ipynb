{
 "cells": [
  {
   "cell_type": "markdown",
   "metadata": {},
   "source": [
    "NFL\n",
    "\n",
    "Predicting overall fantasy points throughout the season based on pre-season performance\n",
    "\n",
    "Predicting fantasy points at the end of a game based on performance at any given amount of minutes into the game\n",
    "\n",
    "(both of these predictions should be done separetely for each position)\n",
    "\n",
    "First I will try to just make these simple multiple regression problems and see how accurate I can get with that"
   ]
  },
  {
   "cell_type": "markdown",
   "metadata": {},
   "source": [
    "Creating functions to scrape preseason and in season data from pro football reference"
   ]
  },
  {
   "cell_type": "code",
   "execution_count": 6,
   "metadata": {},
   "outputs": [],
   "source": [
    "import pandas as pd\n",
    "import requests\n",
    "from bs4 import BeautifulSoup\n",
    "from io import StringIO\n",
    "\n",
    "# Function to scrape pre-season data\n",
    "def scrape_preseason_data(year):\n",
    "    url = f'https://www.pro-football-reference.com/years/{year}/preseason.htm'\n",
    "    response = requests.get(url)\n",
    "    soup = BeautifulSoup(response.text, 'html.parser')\n",
    "\n",
    "    # Find the table and convert it to a DataFrame\n",
    "    table = soup.find('table', {'id': 'preseason'})\n",
    "    df = pd.read_html(StringIO(str(table)))[0]\n",
    "    return df\n",
    "\n",
    "# Function to scrape in-game data\n",
    "def scrape_in_game_data(year):\n",
    "    url = f'https://www.pro-football-reference.com/years/{year}/games.htm'\n",
    "    response = requests.get(url)\n",
    "    soup = BeautifulSoup(response.text, 'html.parser')\n",
    "\n",
    "    # Find the table and convert it to a DataFrame\n",
    "    table = soup.find('table', {'id': 'games'})\n",
    "    df = pd.read_html(StringIO(str(table)))[0]\n",
    "    return df\n"
   ]
  },
  {
   "cell_type": "markdown",
   "metadata": {},
   "source": [
    "Get pre-season and in-game data for the 2023 season"
   ]
  },
  {
   "cell_type": "code",
   "execution_count": 7,
   "metadata": {},
   "outputs": [
    {
     "name": "stdout",
     "output_type": "stream",
     "text": [
      "   Week  Day Unnamed: 2                  VisTm  PF Unnamed: 5  \\\n",
      "0   NaN  Thu   August 3          New York Jets  16          @   \n",
      "1   1.0  Thu  August 10         Houston Texans  20          @   \n",
      "2   1.0  Thu  August 10      Minnesota Vikings  13          @   \n",
      "3   1.0  Fri  August 11      Green Bay Packers  36          @   \n",
      "4   1.0  Fri  August 11  Washington Commanders  17          @   \n",
      "\n",
      "                 HomeTm  Pts  \n",
      "0      Cleveland Browns   21  \n",
      "1  New England Patriots    9  \n",
      "2      Seattle Seahawks   24  \n",
      "3    Cincinnati Bengals   19  \n",
      "4      Cleveland Browns   15  \n",
      "  Week  Day        Date    Time             Winner/tie Unnamed: 5  \\\n",
      "0    1  Thu  2023-09-07  8:20PM          Detroit Lions          @   \n",
      "1    1  Sun  2023-09-10  1:00PM        Atlanta Falcons        NaN   \n",
      "2    1  Sun  2023-09-10  1:00PM       Cleveland Browns        NaN   \n",
      "3    1  Sun  2023-09-10  1:00PM   Jacksonville Jaguars          @   \n",
      "4    1  Sun  2023-09-10  1:00PM  Washington Commanders        NaN   \n",
      "\n",
      "            Loser/tie Unnamed: 7 Pts Pts.1 YdsW TOW YdsL TOL  \n",
      "0  Kansas City Chiefs   boxscore  21    20  368   1  316   1  \n",
      "1   Carolina Panthers   boxscore  24    10  221   0  281   3  \n",
      "2  Cincinnati Bengals   boxscore  24     3  350   2  142   0  \n",
      "3  Indianapolis Colts   boxscore  31    21  342   2  280   3  \n",
      "4   Arizona Cardinals   boxscore  20    16  248   3  210   2  \n"
     ]
    }
   ],
   "source": [
    "preseason_df = scrape_preseason_data(2023)\n",
    "in_game_df = scrape_in_game_data(2023)\n",
    "\n",
    "# Display the first few rows of the DataFrames\n",
    "print(preseason_df.head())\n",
    "print(in_game_df.head())"
   ]
  },
  {
   "cell_type": "markdown",
   "metadata": {},
   "source": [
    "Scrape individual player data"
   ]
  },
  {
   "cell_type": "code",
   "execution_count": 8,
   "metadata": {},
   "outputs": [],
   "source": [
    "def scrape_player_data(year):\n",
    "    url = f'https://www.pro-football-reference.com/years/{year}/fantasy.htm'\n",
    "    response = requests.get(url)\n",
    "    soup = BeautifulSoup(response.text, 'html.parser')\n",
    "\n",
    "    # Find the table and convert it to a DataFrame\n",
    "    table = soup.find('table', {'id': 'fantasy'})\n",
    "    df = pd.read_html(StringIO(str(table)))[0]\n",
    "\n",
    "    # Clean the DataFrame (remove multi-level headers, etc.)\n",
    "    df.columns = df.columns.droplevel(0)  # Drop the first header level\n",
    "    df = df.rename(columns={'Unnamed: 0_level_1': 'Player'})  # Rename player column\n",
    "    df = df[df['Player'] != 'Player']  # Remove extra header rows\n",
    "    return df\n"
   ]
  },
  {
   "cell_type": "markdown",
   "metadata": {},
   "source": [
    "Get player data for the 2023 season"
   ]
  },
  {
   "cell_type": "code",
   "execution_count": 9,
   "metadata": {},
   "outputs": [
    {
     "name": "stdout",
     "output_type": "stream",
     "text": [
      "  Rk                 Player   Tm FantPos Age   G  GS  Cmp  Att   Yds  ...  TD  \\\n",
      "0  1  Christian McCaffrey*+  SFO      RB  27  16  16    0    0     0  ...  21   \n",
      "1  2          CeeDee Lamb*+  DAL      WR  24  17  17    0    0     0  ...  14   \n",
      "2  3             Josh Allen  BUF      QB  27  17  17  385  579  4306  ...  15   \n",
      "3  4          Tyreek Hill*+  MIA      WR  29  16  16    0    0     0  ...  13   \n",
      "4  5           Jalen Hurts*  PHI      QB  25  17  17  352  538  3858  ...  15   \n",
      "\n",
      "   2PM  2PP FantPt    PPR   DKPt   FDPt  VBD PosRank OvRank  \n",
      "0  NaN  NaN    324  391.3  399.3  357.8  157       1      1  \n",
      "1    1  NaN    268  403.2  411.2  335.7  131       1      2  \n",
      "2  NaN    3    393  392.6  420.6  410.6  122       1      3  \n",
      "3  NaN  NaN    257  376.4  380.4  316.9  120       2      4  \n",
      "4  NaN  NaN    357  356.8  382.8  371.8   89       2      5  \n",
      "\n",
      "[5 rows x 33 columns]\n"
     ]
    }
   ],
   "source": [
    "player_df = scrape_player_data(2023)"
   ]
  },
  {
   "cell_type": "code",
   "execution_count": 12,
   "metadata": {},
   "outputs": [
    {
     "name": "stdout",
     "output_type": "stream",
     "text": [
      "  Rk                 Player   Tm FantPos Age   G  GS  Cmp  Att   Yds  ...  TD  \\\n",
      "0  1  Christian McCaffrey*+  SFO      RB  27  16  16    0    0     0  ...  21   \n",
      "1  2          CeeDee Lamb*+  DAL      WR  24  17  17    0    0     0  ...  14   \n",
      "2  3             Josh Allen  BUF      QB  27  17  17  385  579  4306  ...  15   \n",
      "3  4          Tyreek Hill*+  MIA      WR  29  16  16    0    0     0  ...  13   \n",
      "4  5           Jalen Hurts*  PHI      QB  25  17  17  352  538  3858  ...  15   \n",
      "\n",
      "   2PM  2PP FantPt    PPR   DKPt   FDPt  VBD PosRank OvRank  \n",
      "0  NaN  NaN    324  391.3  399.3  357.8  157       1      1  \n",
      "1    1  NaN    268  403.2  411.2  335.7  131       1      2  \n",
      "2  NaN    3    393  392.6  420.6  410.6  122       1      3  \n",
      "3  NaN  NaN    257  376.4  380.4  316.9  120       2      4  \n",
      "4  NaN  NaN    357  356.8  382.8  371.8   89       2      5  \n",
      "\n",
      "[5 rows x 33 columns]\n",
      "Index(['Rk', 'Player', 'Tm', 'FantPos', 'Age', 'G', 'GS', 'Cmp', 'Att', 'Yds',\n",
      "       'TD', 'Int', 'Att', 'Yds', 'Y/A', 'TD', 'Tgt', 'Rec', 'Yds', 'Y/R',\n",
      "       'TD', 'Fmb', 'FL', 'TD', '2PM', '2PP', 'FantPt', 'PPR', 'DKPt', 'FDPt',\n",
      "       'VBD', 'PosRank', 'OvRank'],\n",
      "      dtype='object')\n"
     ]
    }
   ],
   "source": [
    "# Display the first few rows of the DataFrame\n",
    "print(player_df.head())\n",
    "\n",
    "# Display the variable names of the DataFrame\n",
    "print(player_df.columns)"
   ]
  },
  {
   "cell_type": "markdown",
   "metadata": {},
   "source": [
    "Preprocess the data to ensure it's suitable for regression analysis"
   ]
  },
  {
   "cell_type": "code",
   "execution_count": null,
   "metadata": {},
   "outputs": [],
   "source": [
    "# Clean the DataFrame (remove unnecessary columns, handle missing values, etc.)\n",
    "player_df = player_df[['Player', 'Tm', 'FantPos', 'G', 'Cmp', 'Att', 'Yds', 'TD', 'Int', 'Att', 'Yds', 'TD', 'Tgt', 'Rec', 'Yds', 'TD', 'FantPt']]\n",
    "\n",
    "# Rename columns for clarity\n",
    "player_df = player_df.rename(columns={'Tm': 'Team', 'FantPos': 'Position', 'G': 'Games', 'Cmp': 'PassingCompletions', 'Att': 'PassingAttempts', 'Yds': 'PassingYards', 'TD': 'PassingTD', 'Int': 'PassingInt', 'Att': 'RushingAttempts', 'Yds': 'RushingYards', 'TD': 'RushingTD', 'Tgt': 'ReceivingTargets', 'Rec': 'Receptions', 'Yds': 'ReceivingYards', 'TD': 'ReceivingTD', 'FantPt': 'FantasyPoints'})"
   ]
  },
  {
   "cell_type": "code",
   "execution_count": null,
   "metadata": {},
   "outputs": [],
   "source": [
    "# Store the current DataFrame as a CSV file\n",
    "player_df.to_csv('player_data.csv', index=False)"
   ]
  },
  {
   "cell_type": "code",
   "execution_count": 20,
   "metadata": {},
   "outputs": [
    {
     "name": "stdout",
     "output_type": "stream",
     "text": [
      "Index(['Player', 'Team', 'Position', 'Games', 'PassingCompletions',\n",
      "       'RushingAttempts', 'RushingAttempts', 'ReceivingYards',\n",
      "       'ReceivingYards', 'ReceivingYards', 'ReceivingTD', 'ReceivingTD',\n",
      "       'ReceivingTD', 'ReceivingTD', 'PassingInt', 'RushingAttempts',\n",
      "       'RushingAttempts', 'ReceivingYards', 'ReceivingYards', 'ReceivingYards',\n",
      "       'ReceivingTD', 'ReceivingTD', 'ReceivingTD', 'ReceivingTD',\n",
      "       'ReceivingTargets', 'Receptions', 'ReceivingYards', 'ReceivingYards',\n",
      "       'ReceivingYards', 'ReceivingTD', 'ReceivingTD', 'ReceivingTD',\n",
      "       'ReceivingTD', 'FantasyPoints', 'PlayerID'],\n",
      "      dtype='object')\n",
      "                    Player PlayerID\n",
      "0    Christian McCaffrey*+   chris0\n",
      "1            CeeDee Lamb*+   ceede0\n",
      "2               Josh Allen   josh 0\n",
      "3            Tyreek Hill*+   tyree0\n",
      "4             Jalen Hurts*   jalen0\n",
      "..                     ...      ...\n",
      "647             Kyle Allen   kyle 4\n",
      "648           Deon Jackson   deon 0\n",
      "650            David Wells   david5\n",
      "651           James Proche   james5\n",
      "652           Trent Taylor   trent2\n",
      "\n",
      "[632 rows x 2 columns]\n",
      "                  Player Team Position  Games  PassingCompletions  \\\n",
      "0  Christian McCaffrey*+  SFO       RB     16                   0   \n",
      "1          CeeDee Lamb*+  DAL       WR     17                   0   \n",
      "2             Josh Allen  BUF       QB     17                 385   \n",
      "3          Tyreek Hill*+  MIA       WR     16                   0   \n",
      "4           Jalen Hurts*  PHI       QB     17                 352   \n",
      "\n",
      "   RushingAttempts  RushingAttempts  ReceivingYards  ReceivingYards  \\\n",
      "0                0              272               0            1459   \n",
      "1                0               14               0             113   \n",
      "2              579              111            4306             524   \n",
      "3                0                6               0              15   \n",
      "4              538              157            3858             605   \n",
      "\n",
      "   ReceivingYards  ...  Receptions  ReceivingYards  ReceivingYards  \\\n",
      "0             564  ...          67               0            1459   \n",
      "1            1749  ...         135               0             113   \n",
      "2               0  ...           0            4306             524   \n",
      "3            1799  ...         119               0              15   \n",
      "4               0  ...           0            3858             605   \n",
      "\n",
      "   ReceivingYards  ReceivingTD  ReceivingTD  ReceivingTD  ReceivingTD  \\\n",
      "0             564            0           14            7           21   \n",
      "1            1749            0            2           12           14   \n",
      "2               0           29           15            0           15   \n",
      "3            1799            0            0           13           13   \n",
      "4               0           23           15            0           15   \n",
      "\n",
      "   FantasyPoints  PlayerID  \n",
      "0          324.0    chris0  \n",
      "1          268.0    ceede0  \n",
      "2          393.0    josh 0  \n",
      "3          257.0    tyree0  \n",
      "4          357.0    jalen0  \n",
      "\n",
      "[5 rows x 35 columns]\n"
     ]
    },
    {
     "name": "stderr",
     "output_type": "stream",
     "text": [
      "C:\\Users\\elifu\\AppData\\Local\\Temp\\ipykernel_26168\\1822676209.py:14: FutureWarning: errors='ignore' is deprecated and will raise in a future version. Use to_numeric without passing `errors` and catch exceptions explicitly instead\n",
      "  player_df = player_df.apply(pd.to_numeric, errors='ignore')\n"
     ]
    }
   ],
   "source": [
    "# Display the new variable names of the DataFrame\n",
    "print(player_df.columns)\n",
    "\n",
    "# Give each player a unique identifier\n",
    "player_df['PlayerID'] = player_df['Player'].str.replace('[^a-zA-Z]', '')  # Remove non-alphabetic characters\n",
    "player_df['PlayerID'] = player_df['PlayerID'].str.lower()  # Convert to lowercase\n",
    "player_df['PlayerID'] = player_df['PlayerID'].str[:5]  # Take the first 5 characters\n",
    "player_df['PlayerID'] = player_df['PlayerID'] + player_df.groupby('PlayerID').cumcount().astype(str)  # Add a count to handle duplicates\n",
    "\n",
    "# Display the new player ID column\n",
    "print(player_df[['Player', 'PlayerID']])\n",
    "\n",
    "# Convert columns to appropriate data types\n",
    "player_df = player_df.apply(pd.to_numeric, errors='ignore')\n",
    "player_df['FantasyPoints'] = player_df['FantasyPoints'].astype(float)\n",
    "\n",
    "# Handle missing values (e.g., fill with 0 or use appropriate imputation method)\n",
    "player_df = player_df.fillna(0)\n",
    "\n",
    "# Display the cleaned DataFrame\n",
    "print(player_df.head())"
   ]
  }
 ],
 "metadata": {
  "kernelspec": {
   "display_name": "base",
   "language": "python",
   "name": "python3"
  },
  "language_info": {
   "codemirror_mode": {
    "name": "ipython",
    "version": 3
   },
   "file_extension": ".py",
   "mimetype": "text/x-python",
   "name": "python",
   "nbconvert_exporter": "python",
   "pygments_lexer": "ipython3",
   "version": "3.11.6"
  }
 },
 "nbformat": 4,
 "nbformat_minor": 2
}
