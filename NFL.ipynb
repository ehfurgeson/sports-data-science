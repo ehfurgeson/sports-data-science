{
 "cells": [
  {
   "cell_type": "markdown",
   "metadata": {},
   "source": [
    "NFL\n",
    "\n",
    "Predicting overall fantasy points throughout the season based on pre-season performance\n",
    "\n",
    "Predicting fantasy points at the end of a game based on performance at any given amount of minutes into the game\n",
    "\n",
    "(both of these predictions should be done separetely for each position)\n",
    "\n",
    "First I will try to just make these simple multiple regression problems and see how accurate I can get with that"
   ]
  },
  {
   "cell_type": "markdown",
   "metadata": {},
   "source": [
    "Creating functions to scrape preseason and in season data from pro football reference"
   ]
  },
  {
   "cell_type": "code",
   "execution_count": 26,
   "metadata": {},
   "outputs": [],
   "source": [
    "import pandas as pd\n",
    "import requests\n",
    "from bs4 import BeautifulSoup\n",
    "from io import StringIO\n",
    "\n",
    "# Function to scrape pre-season data\n",
    "def scrape_preseason_data(year):\n",
    "    url = f'https://www.pro-football-reference.com/years/{year}/preseason.htm'\n",
    "    response = requests.get(url)\n",
    "    soup = BeautifulSoup(response.text, 'html.parser')\n",
    "\n",
    "    # Find the table and convert it to a DataFrame\n",
    "    table = soup.find('table', {'id': 'preseason'})\n",
    "    df = pd.read_html(StringIO(str(table)))[0]\n",
    "    return df\n",
    "\n",
    "# Function to scrape in-game data\n",
    "def scrape_in_game_data(year):\n",
    "    url = f'https://www.pro-football-reference.com/years/{year}/games.htm'\n",
    "    response = requests.get(url)\n",
    "    soup = BeautifulSoup(response.text, 'html.parser')\n",
    "\n",
    "    # Find the table and convert it to a DataFrame\n",
    "    table = soup.find('table', {'id': 'games'})\n",
    "    df = pd.read_html(StringIO(str(table)))[0]\n",
    "    return df\n"
   ]
  },
  {
   "cell_type": "markdown",
   "metadata": {},
   "source": [
    "Get pre-season and in-game data for the 2023 season"
   ]
  },
  {
   "cell_type": "code",
   "execution_count": 27,
   "metadata": {},
   "outputs": [
    {
     "name": "stdout",
     "output_type": "stream",
     "text": [
      "   Week  Day Unnamed: 2                  VisTm  PF Unnamed: 5  \\\n",
      "0   NaN  Thu   August 3          New York Jets  16          @   \n",
      "1   1.0  Thu  August 10         Houston Texans  20          @   \n",
      "2   1.0  Thu  August 10      Minnesota Vikings  13          @   \n",
      "3   1.0  Fri  August 11      Green Bay Packers  36          @   \n",
      "4   1.0  Fri  August 11  Washington Commanders  17          @   \n",
      "\n",
      "                 HomeTm  Pts  \n",
      "0      Cleveland Browns   21  \n",
      "1  New England Patriots    9  \n",
      "2      Seattle Seahawks   24  \n",
      "3    Cincinnati Bengals   19  \n",
      "4      Cleveland Browns   15  \n",
      "  Week  Day        Date    Time             Winner/tie Unnamed: 5  \\\n",
      "0    1  Thu  2023-09-07  8:20PM          Detroit Lions          @   \n",
      "1    1  Sun  2023-09-10  1:00PM        Atlanta Falcons        NaN   \n",
      "2    1  Sun  2023-09-10  1:00PM       Cleveland Browns        NaN   \n",
      "3    1  Sun  2023-09-10  1:00PM   Jacksonville Jaguars          @   \n",
      "4    1  Sun  2023-09-10  1:00PM  Washington Commanders        NaN   \n",
      "\n",
      "            Loser/tie Unnamed: 7 Pts Pts.1 YdsW TOW YdsL TOL  \n",
      "0  Kansas City Chiefs   boxscore  21    20  368   1  316   1  \n",
      "1   Carolina Panthers   boxscore  24    10  221   0  281   3  \n",
      "2  Cincinnati Bengals   boxscore  24     3  350   2  142   0  \n",
      "3  Indianapolis Colts   boxscore  31    21  342   2  280   3  \n",
      "4   Arizona Cardinals   boxscore  20    16  248   3  210   2  \n"
     ]
    }
   ],
   "source": [
    "preseason_df = scrape_preseason_data(2023)\n",
    "in_game_df = scrape_in_game_data(2023)\n",
    "\n",
    "# Display the first few rows of the DataFrames\n",
    "print(preseason_df.head())\n",
    "print(in_game_df.head())"
   ]
  },
  {
   "cell_type": "markdown",
   "metadata": {},
   "source": [
    "Scrape individual player data"
   ]
  },
  {
   "cell_type": "code",
   "execution_count": 28,
   "metadata": {},
   "outputs": [],
   "source": [
    "def scrape_player_data(year):\n",
    "    url = f'https://www.pro-football-reference.com/years/{year}/fantasy.htm'\n",
    "    response = requests.get(url)\n",
    "    soup = BeautifulSoup(response.text, 'html.parser')\n",
    "\n",
    "    # Find the table and convert it to a DataFrame\n",
    "    table = soup.find('table', {'id': 'fantasy'})\n",
    "    df = pd.read_html(StringIO(str(table)))[0]\n",
    "\n",
    "    # Clean the DataFrame (remove multi-level headers, etc.)\n",
    "    df.columns = df.columns.droplevel(0)  # Drop the first header level\n",
    "    df = df.rename(columns={'Unnamed: 0_level_1': 'Player'})  # Rename player column\n",
    "    df = df[df['Player'] != 'Player']  # Remove extra header rows\n",
    "    return df\n"
   ]
  },
  {
   "cell_type": "markdown",
   "metadata": {},
   "source": [
    "Get player data for the 2023 season"
   ]
  },
  {
   "cell_type": "code",
   "execution_count": 29,
   "metadata": {},
   "outputs": [],
   "source": [
    "player_df = scrape_player_data(2023)"
   ]
  },
  {
   "cell_type": "code",
   "execution_count": 30,
   "metadata": {},
   "outputs": [
    {
     "name": "stdout",
     "output_type": "stream",
     "text": [
      "  Rk                 Player   Tm FantPos Age   G  GS  Cmp  Att   Yds  ...  TD  \\\n",
      "0  1  Christian McCaffrey*+  SFO      RB  27  16  16    0    0     0  ...  21   \n",
      "1  2          CeeDee Lamb*+  DAL      WR  24  17  17    0    0     0  ...  14   \n",
      "2  3             Josh Allen  BUF      QB  27  17  17  385  579  4306  ...  15   \n",
      "3  4          Tyreek Hill*+  MIA      WR  29  16  16    0    0     0  ...  13   \n",
      "4  5           Jalen Hurts*  PHI      QB  25  17  17  352  538  3858  ...  15   \n",
      "\n",
      "   2PM  2PP FantPt    PPR   DKPt   FDPt  VBD PosRank OvRank  \n",
      "0  NaN  NaN    324  391.3  399.3  357.8  157       1      1  \n",
      "1    1  NaN    268  403.2  411.2  335.7  131       1      2  \n",
      "2  NaN    3    393  392.6  420.6  410.6  122       1      3  \n",
      "3  NaN  NaN    257  376.4  380.4  316.9  120       2      4  \n",
      "4  NaN  NaN    357  356.8  382.8  371.8   89       2      5  \n",
      "\n",
      "[5 rows x 33 columns]\n",
      "Index(['Rk', 'Player', 'Tm', 'FantPos', 'Age', 'G', 'GS', 'Cmp', 'Att', 'Yds',\n",
      "       'TD', 'Int', 'Att', 'Yds', 'Y/A', 'TD', 'Tgt', 'Rec', 'Yds', 'Y/R',\n",
      "       'TD', 'Fmb', 'FL', 'TD', '2PM', '2PP', 'FantPt', 'PPR', 'DKPt', 'FDPt',\n",
      "       'VBD', 'PosRank', 'OvRank'],\n",
      "      dtype='object')\n"
     ]
    }
   ],
   "source": [
    "# Display the first few rows of the DataFrame\n",
    "print(player_df.head())\n",
    "\n",
    "# Display the variable names of the DataFrame\n",
    "print(player_df.columns)"
   ]
  },
  {
   "cell_type": "markdown",
   "metadata": {},
   "source": [
    "Preprocess the data to ensure it's suitable for regression analysis"
   ]
  },
  {
   "cell_type": "code",
   "execution_count": 31,
   "metadata": {},
   "outputs": [],
   "source": [
    "# Clean the DataFrame (remove unnecessary columns, handle missing values, etc.)\n",
    "player_df = player_df[['Player', 'Tm', 'FantPos', 'G', 'Cmp', 'Att', 'Yds', 'TD', 'Int', 'Att', 'Yds', 'TD', 'Tgt', 'Rec', 'Yds', 'TD', 'FantPt']]\n",
    "\n",
    "# Rename columns for clarity\n",
    "player_df = player_df.rename(columns=({'Tm': 'Team', 'FantPos': 'Position', 'G': 'Games', \n",
    "                                       'Cmp': 'PassingCompletions', 'Att': 'PassingAttempts', 'Yds': 'PassingYards', \n",
    "                                       'TD': 'PassingTD', 'Int': 'PassingInt', 'Att': 'RushingAttempts', \n",
    "                                       'Yds': 'RushingYards', 'TD': 'RushingTD', 'Tgt': 'ReceivingTargets', \n",
    "                                       'Rec': 'Receptions', 'Yds': 'ReceivingYards', 'TD': 'ReceivingTD', \n",
    "                                       'FantPt': 'FantasyPoints'\n",
    "                                       }))"
   ]
  },
  {
   "cell_type": "code",
   "execution_count": 32,
   "metadata": {},
   "outputs": [
    {
     "name": "stdout",
     "output_type": "stream",
     "text": [
      "Index(['Player', 'Team', 'Position', 'Games', 'PassingCompletions',\n",
      "       'RushingAttempts', 'RushingAttempts', 'ReceivingYards',\n",
      "       'ReceivingYards', 'ReceivingYards', 'ReceivingTD', 'ReceivingTD',\n",
      "       'ReceivingTD', 'ReceivingTD', 'PassingInt', 'RushingAttempts',\n",
      "       'RushingAttempts', 'ReceivingYards', 'ReceivingYards', 'ReceivingYards',\n",
      "       'ReceivingTD', 'ReceivingTD', 'ReceivingTD', 'ReceivingTD',\n",
      "       'ReceivingTargets', 'Receptions', 'ReceivingYards', 'ReceivingYards',\n",
      "       'ReceivingYards', 'ReceivingTD', 'ReceivingTD', 'ReceivingTD',\n",
      "       'ReceivingTD', 'FantasyPoints'],\n",
      "      dtype='object')\n",
      "                    Player              PlayerID\n",
      "0    Christian McCaffrey*+  christian mccaffrey0\n",
      "1            CeeDee Lamb*+          ceedee lamb0\n",
      "2               Josh Allen           josh allen0\n",
      "3            Tyreek Hill*+          tyreek hill0\n",
      "4             Jalen Hurts*          jalen hurts0\n",
      "..                     ...                   ...\n",
      "647             Kyle Allen           kyle allen0\n",
      "648           Deon Jackson         deon jackson0\n",
      "650            David Wells          david wells0\n",
      "651           James Proche         james proche0\n",
      "652           Trent Taylor         trent taylor0\n",
      "\n",
      "[632 rows x 2 columns]\n",
      "                  Player Team Position  Games  PassingCompletions  \\\n",
      "0  Christian McCaffrey*+  SFO       RB     16                   0   \n",
      "1          CeeDee Lamb*+  DAL       WR     17                   0   \n",
      "2             Josh Allen  BUF       QB     17                 385   \n",
      "3          Tyreek Hill*+  MIA       WR     16                   0   \n",
      "4           Jalen Hurts*  PHI       QB     17                 352   \n",
      "\n",
      "   RushingAttempts  RushingAttempts  ReceivingYards  ReceivingYards  \\\n",
      "0                0              272               0            1459   \n",
      "1                0               14               0             113   \n",
      "2              579              111            4306             524   \n",
      "3                0                6               0              15   \n",
      "4              538              157            3858             605   \n",
      "\n",
      "   ReceivingYards  ...  Receptions  ReceivingYards  ReceivingYards  \\\n",
      "0             564  ...          67               0            1459   \n",
      "1            1749  ...         135               0             113   \n",
      "2               0  ...           0            4306             524   \n",
      "3            1799  ...         119               0              15   \n",
      "4               0  ...           0            3858             605   \n",
      "\n",
      "   ReceivingYards  ReceivingTD  ReceivingTD  ReceivingTD  ReceivingTD  \\\n",
      "0             564            0           14            7           21   \n",
      "1            1749            0            2           12           14   \n",
      "2               0           29           15            0           15   \n",
      "3            1799            0            0           13           13   \n",
      "4               0           23           15            0           15   \n",
      "\n",
      "   FantasyPoints              PlayerID  \n",
      "0          324.0  christian mccaffrey0  \n",
      "1          268.0          ceedee lamb0  \n",
      "2          393.0           josh allen0  \n",
      "3          257.0          tyreek hill0  \n",
      "4          357.0          jalen hurts0  \n",
      "\n",
      "[5 rows x 35 columns]\n"
     ]
    },
    {
     "name": "stderr",
     "output_type": "stream",
     "text": [
      "C:\\Users\\elifu\\AppData\\Local\\Temp\\ipykernel_4328\\3598492347.py:21: FutureWarning: errors='ignore' is deprecated and will raise in a future version. Use to_numeric without passing `errors` and catch exceptions explicitly instead\n",
      "  player_df = player_df.apply(pd.to_numeric, errors='ignore')\n"
     ]
    }
   ],
   "source": [
    "# Display the new variable names of the DataFrame\n",
    "print(player_df.columns)\n",
    "\n",
    "# Function that passes in a dataframe to give each player a unique identifier\n",
    "def create_player_id(df):\n",
    "    # remove * and + from player names\n",
    "    df['PlayerID'] = df['Player'].str.replace('*', '')\n",
    "    df['PlayerID'] = df['PlayerID'].str.replace('+', '')\n",
    "    df['PlayerID'] = df['PlayerID'].str.split('\\\\').str[0]  # Remove special characters\n",
    "    df['PlayerID'] = df['PlayerID'].str.lower()  # Convert to lowercase\n",
    "    df['PlayerID'] = df['PlayerID'] + df.groupby('PlayerID').cumcount().astype(str)  # Add a count to handle duplicates\n",
    "    return df\n",
    "\n",
    "# Apply the function to the player DataFrame\n",
    "player_df = create_player_id(player_df)\n",
    "\n",
    "# Display the new player ID column\n",
    "print(player_df[['Player', 'PlayerID']])\n",
    "\n",
    "# Convert columns to appropriate data types\n",
    "player_df = player_df.apply(pd.to_numeric, errors='ignore')\n",
    "player_df['FantasyPoints'] = player_df['FantasyPoints'].astype(float)\n",
    "\n",
    "# Handle missing values (e.g., fill with 0 or use appropriate imputation method)\n",
    "player_df = player_df.fillna(0)\n",
    "\n",
    "# Display the cleaned DataFrame\n",
    "print(player_df.head())"
   ]
  },
  {
   "cell_type": "code",
   "execution_count": 33,
   "metadata": {},
   "outputs": [],
   "source": [
    "# Store the current DataFrame as a CSV file\n",
    "player_df.to_csv('player_data.csv', index=False)"
   ]
  },
  {
   "cell_type": "markdown",
   "metadata": {},
   "source": [
    "I attempted many times to find a good way to scrape lots of preseason data on individual player performance\n",
    "\n",
    "Eventually I did find some good sources, however at that point I realized that even with good data the model to predict fantasy points througout the season using preseason performance just wouldn't be great because preseason games are so different from in season games, and the players that play in the preseason often get far less play in the actual season, therefore the predictions would likely underestimate performance for the players that do play a lot in both because it would be dragged down by players who play in the preseason but not in the regular season\n",
    "\n",
    "So, instead I am going to shift my focus to creating visualizations of player fantasy points given their performance at a given time in the game, and their average fantasy points for this season and the previous seasons\n",
    "\n",
    "My idea is to do this very simply by taking current fantasy points at x minutes into the game and then multiplying that by (total minutes in the game)/x then slightly altering that expectation by using the average fantasy points for this or last season to either drag up or down the prediction, this will effectively create a very simple time series forecast for the player's fantasy points"
   ]
  },
  {
   "cell_type": "markdown",
   "metadata": {},
   "source": [
    "Time series forecasting for fantasy football points"
   ]
  },
  {
   "cell_type": "code",
   "execution_count": 46,
   "metadata": {},
   "outputs": [],
   "source": [
    "# Read the PlayerID, FantasyPoints, Games, and Position columns from the CSV file\n",
    "player_df = pd.read_csv('player_data.csv', usecols=['PlayerID', 'FantasyPoints', 'Games', 'Position'])\n",
    "\n",
    "# Create a new column for average fantasy points per game\n",
    "player_df['AvgFPPG'] = player_df['FantasyPoints'] / player_df['Games']\n",
    "\n",
    "# Sort the DataFrame by average fantasy points per game in descending order\n",
    "player_df = player_df.sort_values(by='AvgFPPG', ascending=False)\n",
    "\n",
    "# Display the first few rows of the DataFrame\n",
    "print(player_df.head())\n",
    "\n",
    "# Store the updated DataFrame as a CSV file\n",
    "player_df.to_csv('AvgFPPG.csv', index=False)"
   ]
  },
  {
   "cell_type": "code",
   "execution_count": 48,
   "metadata": {},
   "outputs": [
    {
     "name": "stdout",
     "output_type": "stream",
     "text": [
      "  Position  Games  FantasyPoints        PlayerID    AvgFPPG\n",
      "0       QB     17          393.0     josh allen0  23.117647\n",
      "1       QB     17          357.0    jalen hurts0  21.000000\n",
      "2       QB     16          331.0  lamar jackson0  20.687500\n",
      "4       QB      5          101.0     joe flacco0  20.200000\n",
      "5       QB     17          343.0   dak prescott0  20.176471\n",
      "   Position  Games  FantasyPoints              PlayerID    AvgFPPG\n",
      "3        RB     16          324.0  christian mccaffrey0  20.250000\n",
      "8        RB     12          223.0       kyren williams0  18.583333\n",
      "20       RB     15          243.0       raheem mostert0  16.200000\n",
      "29       RB     11          164.0        de'von achane0  14.909091\n",
      "34       RB     10          137.0      jonathan taylor0  13.700000\n",
      "   Position  Games  FantasyPoints            PlayerID    AvgFPPG\n",
      "22       WR     16          257.0        tyreek hill0  16.062500\n",
      "25       WR     17          268.0        ceedee lamb0  15.764706\n",
      "39       WR     10          134.0   justin jefferson0  13.400000\n",
      "40       WR     16          212.0  amon-ra st. brown0  13.250000\n",
      "43       WR     13          171.0       keenan allen0  13.153846\n",
      "    Position  Games  FantasyPoints         PlayerID   AvgFPPG\n",
      "104       TE     17          153.0     sam laporta0  9.000000\n",
      "105       TE     10           90.0    mark andrews0  9.000000\n",
      "111       TE     16          138.0   george kittle0  8.625000\n",
      "115       TE     15          126.0    travis kelce0  8.400000\n",
      "117       TE     15          124.0  t.j. hockenson0  8.266667\n"
     ]
    }
   ],
   "source": [
    "# Read the CSV file into a new DataFrame\n",
    "player_df = pd.read_csv('AvgFPPG.csv')\n",
    "\n",
    "# Create a DataFrame for each position\n",
    "qb_df = player_df[player_df['Position'] == 'QB']\n",
    "rb_df = player_df[player_df['Position'] == 'RB']\n",
    "wr_df = player_df[player_df['Position'] == 'WR']\n",
    "te_df = player_df[player_df['Position'] == 'TE']\n",
    "\n",
    "# Display the first few rows of each position DataFrame\n",
    "print(qb_df.head())\n",
    "print(rb_df.head())\n",
    "print(wr_df.head())\n",
    "print(te_df.head())"
   ]
  }
 ],
 "metadata": {
  "kernelspec": {
   "display_name": "base",
   "language": "python",
   "name": "python3"
  },
  "language_info": {
   "codemirror_mode": {
    "name": "ipython",
    "version": 3
   },
   "file_extension": ".py",
   "mimetype": "text/x-python",
   "name": "python",
   "nbconvert_exporter": "python",
   "pygments_lexer": "ipython3",
   "version": "3.11.6"
  }
 },
 "nbformat": 4,
 "nbformat_minor": 2
}
